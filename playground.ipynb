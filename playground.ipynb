{
 "cells": [
  {
   "cell_type": "code",
   "execution_count": 1,
   "metadata": {},
   "outputs": [
    {
     "name": "stderr",
     "output_type": "stream",
     "text": [
      "/opt/anaconda3/envs/agent/lib/python3.9/site-packages/tqdm/auto.py:21: TqdmWarning: IProgress not found. Please update jupyter and ipywidgets. See https://ipywidgets.readthedocs.io/en/stable/user_install.html\n",
      "  from .autonotebook import tqdm as notebook_tqdm\n"
     ]
    }
   ],
   "source": [
    "\n",
    "from getpass import getpass\n",
    "from typing import List\n",
    "from ase import Atoms, Atom\n",
    "from langchain.agents import tool\n",
    "from ase.build import bulk\n",
    "from ase.data import reference_states, atomic_numbers\n",
    "from langchain_anthropic import ChatAnthropic\n",
    "from langchain_core.prompts import ChatPromptTemplate, MessagesPlaceholder\n",
    "from langchain.agents.format_scratchpad.openai_tools import (\n",
    "    format_to_openai_tool_messages,\n",
    ")\n",
    "from typing import Callable, List\n",
    "\n",
    "from langchain.memory import ConversationBufferMemory\n",
    "from langchain.schema import (\n",
    "    AIMessage,\n",
    "    HumanMessage,\n",
    "    SystemMessage,\n",
    ")\n",
    "\n",
    "from langchain.agents.output_parsers.openai_tools import OpenAIToolsAgentOutputParser\n",
    "from langchain_core.pydantic_v1 import BaseModel\n",
    "from langchain.agents import AgentExecutor\n",
    "from pymatgen.io.ase import AseAtomsAdaptor\n",
    "from mp_api.client import MPRester\n",
    "import os, sys, glob\n",
    "\n",
    "from ase.calculators.emt import EMT\n",
    "from ase.eos import calculate_eos\n",
    "from ase.units import kJ\n",
    "from ase.lattice.cubic import FaceCenteredCubic\n",
    "from ase import Atoms\n",
    "import io\n",
    "from ase.io import write, read\n",
    "import numpy as np\n",
    "import ast\n",
    "\n",
    "from ase.calculators.espresso import Espresso, EspressoProfile\n"
   ]
  },
  {
   "cell_type": "code",
   "execution_count": 8,
   "metadata": {},
   "outputs": [],
   "source": [
    "\n",
    "class AtomsDict(BaseModel):\n",
    "    numbers: List[int]\n",
    "    positions: List[List[float]]\n",
    "    cell: List[List[float]]\n",
    "    pbc: List[bool]\n",
    "def structure(concentration: float) -> AtomsDict:\n",
    "    concentration = 0.5\n",
    "    atoms = FaceCenteredCubic(\"Cu\", latticeconstant=3.58)\n",
    "    atoms *= (1,1,2)\n",
    "    # Calculate the number of Cu atoms to replace\n",
    "    num_atoms_to_replace = int(concentration * len(atoms))\n",
    "    # Randomly select indices to replace\n",
    "    indices_to_replace = np.random.choice(len(atoms), num_atoms_to_replace, replace=False)\n",
    "    atoms.numbers[indices_to_replace] = 79\n",
    "    scaleFactor = concentration * (6.5 - 3.58) / 3.58 + 1\n",
    "    atoms.set_cell(atoms.cell * scaleFactor, scale_atoms=True)\n",
    "    return atoms.todict()"
   ]
  },
  {
   "cell_type": "code",
   "execution_count": 9,
   "metadata": {},
   "outputs": [
    {
     "name": "stdout",
     "output_type": "stream",
     "text": [
      "{'numbers': array([79, 29, 29, 79, 29, 79, 79, 29]), 'positions': array([[0.  , 0.  , 0.  ],\n",
      "       [2.52, 2.52, 0.  ],\n",
      "       [2.52, 0.  , 2.52],\n",
      "       [0.  , 2.52, 2.52],\n",
      "       [0.  , 0.  , 5.04],\n",
      "       [2.52, 2.52, 5.04],\n",
      "       [2.52, 0.  , 7.56],\n",
      "       [0.  , 2.52, 7.56]]), 'cell': array([[ 5.04,  0.  ,  0.  ],\n",
      "       [ 0.  ,  5.04,  0.  ],\n",
      "       [ 0.  ,  0.  , 10.08]]), 'pbc': array([ True,  True,  True])}\n"
     ]
    }
   ],
   "source": [
    "print(structure(0.5))"
   ]
  },
  {
   "cell_type": "code",
   "execution_count": 1,
   "metadata": {},
   "outputs": [
    {
     "name": "stdout",
     "output_type": "stream",
     "text": [
      "&CONTROL\n",
      "    calculation = 'scf'\n",
      "    restart_mode = 'from_scratch'\n",
      "    pseudo_dir = './'\n",
      "    outdir = './'\n",
      "    prefix = 'cu_au_alloy'\n",
      "    tprnfor = .true.\n",
      "    tstress = .true.\n",
      "/\n",
      "&SYSTEM\n",
      "    ibrav = 0\n",
      "    nat = 8\n",
      "    ntyp = 2\n",
      "    ecutwfc = 60.0\n",
      "    ecutrho = 480.0\n",
      "    occupations = 'smearing'\n",
      "    smearing = 'mp'\n",
      "    degauss = 0.02\n",
      "/\n",
      "&ELECTRONS\n",
      "    conv_thr = 1.0e-7\n",
      "    mixing_beta = 0.3\n",
      "/\n",
      "ATOMIC_SPECIES\n",
      "Cu 63.546 Cu.pbe-dn-kjpaw_psl.1.0.0.UPF\n",
      "Au 196.967 Au.pbe-n-kjpaw_psl.1.0.0.UPF\n",
      "\n",
      "K_POINTS automatic\n",
      "5 5 3 0 0 0\n",
      "\n",
      "ATOMIC_POSITIONS crystal\n",
      "Cu  0.000000000   0.000000000   0.000000000\n",
      "Cu  0.500000000   0.500000000   0.000000000\n",
      "Cu  0.500000000   0.000000000   0.250000000\n",
      "Cu  0.000000000   0.500000000   0.250000000\n",
      "Au  0.000000000   0.000000000   0.500000000\n",
      "Au  0.500000000   0.500000000   0.500000000\n",
      "Au  0.500000000   0.000000000   0.750000000\n",
      "Au  0.000000000   0.500000000   0.750000000\n",
      "\n",
      "CELL_PARAMETERS angstrom\n",
      " 5.040000000   0.000000000   0.000000000\n",
      " 0.000000000   5.040000000   0.000000000\n",
      " 0.000000000   0.000000000  10.080000000\n"
     ]
    }
   ],
   "source": [
    "content = \"&CONTROL\\n    calculation = 'scf'\\n    restart_mode = 'from_scratch'\\n    pseudo_dir = './'\\n    outdir = './'\\n    prefix = 'cu_au_alloy'\\n    tprnfor = .true.\\n    tstress = .true.\\n/\\n&SYSTEM\\n    ibrav = 0\\n    nat = 8\\n    ntyp = 2\\n    ecutwfc = 60.0\\n    ecutrho = 480.0\\n    occupations = 'smearing'\\n    smearing = 'mp'\\n    degauss = 0.02\\n/\\n&ELECTRONS\\n    conv_thr = 1.0e-7\\n    mixing_beta = 0.3\\n/\\nATOMIC_SPECIES\\nCu 63.546 Cu.pbe-dn-kjpaw_psl.1.0.0.UPF\\nAu 196.967 Au.pbe-n-kjpaw_psl.1.0.0.UPF\\n\\nK_POINTS automatic\\n5 5 3 0 0 0\\n\\nATOMIC_POSITIONS crystal\\nCu  0.000000000   0.000000000   0.000000000\\nCu  0.500000000   0.500000000   0.000000000\\nCu  0.500000000   0.000000000   0.250000000\\nCu  0.000000000   0.500000000   0.250000000\\nAu  0.000000000   0.000000000   0.500000000\\nAu  0.500000000   0.500000000   0.500000000\\nAu  0.500000000   0.000000000   0.750000000\\nAu  0.000000000   0.500000000   0.750000000\\n\\nCELL_PARAMETERS angstrom\\n 5.040000000   0.000000000   0.000000000\\n 0.000000000   5.040000000   0.000000000\\n 0.000000000   0.000000000  10.080000000\"\n",
    "print(content)"
   ]
  },
  {
   "cell_type": "code",
   "execution_count": null,
   "metadata": {},
   "outputs": [],
   "source": []
  }
 ],
 "metadata": {
  "kernelspec": {
   "display_name": "Python 3",
   "language": "python",
   "name": "python3"
  },
  "language_info": {
   "codemirror_mode": {
    "name": "ipython",
    "version": 3
   },
   "file_extension": ".py",
   "mimetype": "text/x-python",
   "name": "python",
   "nbconvert_exporter": "python",
   "pygments_lexer": "ipython3",
   "version": "3.9.18"
  }
 },
 "nbformat": 4,
 "nbformat_minor": 2
}
